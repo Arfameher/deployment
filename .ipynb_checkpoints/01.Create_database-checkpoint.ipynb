{
 "cells": [
  {
   "cell_type": "code",
   "execution_count": 21,
   "id": "10de4fe3",
   "metadata": {},
   "outputs": [],
   "source": [
    "import pandas as pd\n",
    "import sqlite3\n",
    "import csv"
   ]
  },
  {
   "cell_type": "code",
   "execution_count": 2,
   "id": "92d9813b",
   "metadata": {},
   "outputs": [],
   "source": [
    "df = pd.read_csv('steam.csv')"
   ]
  },
  {
   "cell_type": "code",
   "execution_count": 3,
   "id": "87981761",
   "metadata": {},
   "outputs": [
    {
     "data": {
      "text/html": [
       "<div>\n",
       "<style scoped>\n",
       "    .dataframe tbody tr th:only-of-type {\n",
       "        vertical-align: middle;\n",
       "    }\n",
       "\n",
       "    .dataframe tbody tr th {\n",
       "        vertical-align: top;\n",
       "    }\n",
       "\n",
       "    .dataframe thead th {\n",
       "        text-align: right;\n",
       "    }\n",
       "</style>\n",
       "<table border=\"1\" class=\"dataframe\">\n",
       "  <thead>\n",
       "    <tr style=\"text-align: right;\">\n",
       "      <th></th>\n",
       "      <th>Unnamed: 0</th>\n",
       "      <th>type</th>\n",
       "      <th>name</th>\n",
       "      <th>steam_appid</th>\n",
       "      <th>required_age</th>\n",
       "      <th>is_free</th>\n",
       "      <th>detailed_description</th>\n",
       "      <th>about_the_game</th>\n",
       "      <th>short_description</th>\n",
       "      <th>supported_languages</th>\n",
       "      <th>...</th>\n",
       "      <th>total_reviews</th>\n",
       "      <th>controller_support</th>\n",
       "      <th>dlc</th>\n",
       "      <th>demos</th>\n",
       "      <th>recommendations</th>\n",
       "      <th>achievements</th>\n",
       "      <th>reviews</th>\n",
       "      <th>ext_user_account_notice</th>\n",
       "      <th>metacritic</th>\n",
       "      <th>drm_notice</th>\n",
       "    </tr>\n",
       "  </thead>\n",
       "  <tbody>\n",
       "    <tr>\n",
       "      <th>0</th>\n",
       "      <td>1198490</td>\n",
       "      <td>game</td>\n",
       "      <td>All That Remains: Part 1</td>\n",
       "      <td>1198490</td>\n",
       "      <td>0</td>\n",
       "      <td>False</td>\n",
       "      <td>“Duncan Price is paranoid” they used to say. H...</td>\n",
       "      <td>“Duncan Price is paranoid” they used to say. H...</td>\n",
       "      <td>“Duncan Price is paranoid” they used to say. H...</td>\n",
       "      <td>English&lt;strong&gt;*&lt;/strong&gt;, French, Italian, Ge...</td>\n",
       "      <td>...</td>\n",
       "      <td>4</td>\n",
       "      <td>NaN</td>\n",
       "      <td>NaN</td>\n",
       "      <td>NaN</td>\n",
       "      <td>NaN</td>\n",
       "      <td>NaN</td>\n",
       "      <td>NaN</td>\n",
       "      <td>NaN</td>\n",
       "      <td>NaN</td>\n",
       "      <td>NaN</td>\n",
       "    </tr>\n",
       "  </tbody>\n",
       "</table>\n",
       "<p>1 rows × 45 columns</p>\n",
       "</div>"
      ],
      "text/plain": [
       "   Unnamed: 0  type                      name  steam_appid  required_age  \\\n",
       "0     1198490  game  All That Remains: Part 1      1198490             0   \n",
       "\n",
       "   is_free                               detailed_description  \\\n",
       "0    False  “Duncan Price is paranoid” they used to say. H...   \n",
       "\n",
       "                                      about_the_game  \\\n",
       "0  “Duncan Price is paranoid” they used to say. H...   \n",
       "\n",
       "                                   short_description  \\\n",
       "0  “Duncan Price is paranoid” they used to say. H...   \n",
       "\n",
       "                                 supported_languages  ... total_reviews  \\\n",
       "0  English<strong>*</strong>, French, Italian, Ge...  ...             4   \n",
       "\n",
       "  controller_support  dlc demos recommendations achievements reviews  \\\n",
       "0                NaN  NaN   NaN             NaN          NaN     NaN   \n",
       "\n",
       "  ext_user_account_notice metacritic drm_notice  \n",
       "0                     NaN        NaN        NaN  \n",
       "\n",
       "[1 rows x 45 columns]"
      ]
     },
     "execution_count": 3,
     "metadata": {},
     "output_type": "execute_result"
    }
   ],
   "source": [
    "df.head(1)"
   ]
  },
  {
   "cell_type": "code",
   "execution_count": 7,
   "id": "191d7520",
   "metadata": {},
   "outputs": [
    {
     "data": {
      "text/plain": [
       "<sqlite3.Cursor at 0x7f8d4976ece0>"
      ]
     },
     "execution_count": 7,
     "metadata": {},
     "output_type": "execute_result"
    }
   ],
   "source": [
    "conn = sqlite3.connect(\"database.db\")\n",
    "c = conn.cursor()\n",
    "c.execute(\"DROP TABLE Steam_game\")"
   ]
  },
  {
   "cell_type": "code",
   "execution_count": 8,
   "id": "e118a14e",
   "metadata": {},
   "outputs": [],
   "source": [
    "conn = sqlite3.connect(\"database.db\") #if the db does not exist, this creates a database.db file in the current directory\n",
    "\n",
    "#store your table in the database:\n",
    "\n",
    "df.to_sql('Steam_game', conn)\n",
    "\n",
    "#read a SQL Query out of your database and into a pandas dataframe\n",
    "\n",
    "sql_string = 'SELECT * FROM Steam_game'\n",
    "\n",
    "df = pd.read_sql(sql_string, conn)"
   ]
  },
  {
   "cell_type": "code",
   "execution_count": 11,
   "id": "a8c27118",
   "metadata": {},
   "outputs": [
    {
     "data": {
      "text/plain": [
       "<sqlite3.Cursor at 0x7f8d4977f3b0>"
      ]
     },
     "execution_count": 11,
     "metadata": {},
     "output_type": "execute_result"
    }
   ],
   "source": [
    "c = conn.cursor()\n",
    "c.execute('''CREATE TABLE Steam_game1 \n",
    "           (steam_appid TEXT PRIMARY KEY,\n",
    "           name TEXT NOT NULL UNIQUE,\n",
    "            required_age INTEGER NOT NULL,\n",
    "            detailed_description TEXT NOT NULL,\n",
    "            genres TEXT NOT NULL,\n",
    "            release_date TEXT NOT NULL,\n",
    "            review_score INTEGER NOT NULL,\n",
    "            total_positive TEXT NOT NULL,\n",
    "            total_negative TEXT NOT NULL)\n",
    "            ''')"
   ]
  },
  {
   "cell_type": "markdown",
   "id": "c6027a8a",
   "metadata": {},
   "source": [
    "https://stackoverflow.com/questions/14933691/only-import-two-columns-from-a-csv"
   ]
  },
  {
   "cell_type": "code",
   "execution_count": 13,
   "id": "ea8f3289",
   "metadata": {},
   "outputs": [
    {
     "name": "stdout",
     "output_type": "stream",
     "text": [
      "[]\n"
     ]
    }
   ],
   "source": [
    "def get_posts():\n",
    "    c.execute(\"SELECT * FROM Steam_game1\")\n",
    "    print(c.fetchall())\n",
    "\n",
    "get_posts()"
   ]
  },
  {
   "cell_type": "code",
   "execution_count": 20,
   "id": "77700694",
   "metadata": {},
   "outputs": [
    {
     "name": "stdout",
     "output_type": "stream",
     "text": [
      "('steam_appid', 'name', 'required_age', 'detailed_description', 'genres', 'release_date', 'review_score', 'total_positive', 'total_negative')\n",
      "('1198490', 'All That Remains: Part 1', 0, '“Duncan Price is paranoid” they used to say. He’s just a “local nut” they said. They used to say a lot of things about him. Now they don’t say anything. Because they’re dead.<br><br>Waking up in what appears to be his father’s old bunker, Campbell Price is confused. Last night was pretty crazy, but not that crazy. How did he end up here?<br><br>Hearing a familiar voice over a 2-way radio, your sister says you’ve been put in the bunker for your own safety.<br><br>Fearing for your sister’s life, who has also been locked up for her protection, you must escape the bunker and find her before it’s too late. <br><br>Before you’re ... all that remains.<br><br>All That Remains is a first person adventure game set in, what seems to be, a cold war era bunker. You find yourself locked up with a spotty memory and an uncontrollable urge to escape. Collect items, unlock stuff, solve puzzles, and find your sister!<h2 class=\"bb_tag\">Key Features</h2><br><ul class=\"bb_ul\"><li>In game camera so you can take photos of all the clues you find. Less back tracking!<br><br></li><li>Plenty of puzzles to get stuck on.<br><br></li><li>Beautiful soundtrack composed by Richard J. Moir.<br><br></li><li>Auto-save feature, never lose your progress again!</li></ul><h2 class=\"bb_tag\">The Glitch Camera</h2><br>Use the Glitch Camera to:<br><br><ul class=\"bb_ul\"><li><strong><i>Take photos of everything you find.</i></strong> Be it posters, clues, walls, or disturbing blood stains.</li></ul><br><ul class=\"bb_ul\"><li><strong><i>Write notes on them like a real detective.</i></strong> Use less paper, kill fewer trees, save the planet!</li></ul><br><ul class=\"bb_ul\"><li><strong><i>Use your notes to solve puzzles. </i></strong>Pop multiple photos out so that you can look at them at the same time.</li></ul><br>Please search for us on Twitter, Facebook, Discord, and the Web to stay in touch!', \"[{'id': '25', 'description': 'Adventure'}]\", \"{'coming_soon': False, 'date': '16 Apr, 2021'}\", 0, '1', '3')\n",
      "('1198510', 'Paperball', 0, 'It\\'s time to get rolling!<br><br>Navigate tricky passages, pull off crazy stunts and get ready to fall off the stage more often than you count in over 150 stages! All unique levels will test your balancing skills over the course of over 10 papercrafted environments in a variety of game modes.<br><br>Take on challenging stage sets, trying to fall as little as possible, or risk it all to score the best time on any stage. Play any way you want, alone or with a friend.<br><br><ul class=\"bb_ul\"><li> Play on over <strong>150 stages</strong> spread over the course of 4 difficulty levels.<br></li><li> Roll against the clock! See how far you can get in <strong>Rush Mode</strong> before time runs out!<br></li><li> Try to break the record times to score medals and unlock new worlds in <strong>Medal Mode</strong>!<br></li><li> <strong>No lives</strong> to keep in mind! Keep trying until you master the stage.<br></li><li> Competitive <strong>local multiplayer</strong>. Finish first for the highest score!</li></ul>', \"[{'id': '1', 'description': 'Action'}, {'id': '23', 'description': 'Indie'}]\", \"{'coming_soon': False, 'date': '27 Mar, 2020'}\", 8, '130', '4')\n",
      "('1198550', 'Moderium', 0, \"Moderium is a Wave-Based Isometric Action Role-Playing Game (ARPG) where players are given vast customization over their combat capabilities through the unique Modification system. Players will enter various realms and fight back waves of enemies of varying power to gain experience and equipment to further their abilities. The difficulty encountered is at the hands of the player through manually setting the initial level of enemies to fight which allows for more casual or edge-of-seat gameplay. With 10 Classes, 4 Skill Trees, 52 Skills and 59 Sets available at launch the path of which you choose to defeat your enemies is up to you.<br><br>Moderium focuses around the concept of customization while retaining accessibility without removing depth of gameplay.<br><br>\\t<strong><u>Feature Summary</u></strong><br>- Customizable skills to play as you choose.<br>- Randomly generated equipment with the opportunity to target crafting specific pieces.<br>- New Secondary Stats to offer meaningful equipment management and build diversity.<br>- Class variety with gameplay impact.<br>- Roguelike and Incremental elements to allow rewards for time commitment while furthering character development beyond max level.<br><br>-----------------------------------------------------<br><br>\\t<strong><u>Features Detailed</u></strong><br>\\t\\t\\t\\t\\t\\t<strong><u>SKILLS</u></strong><br>Each skill is composed of the Base Skill, 5 Modifiers and 2 Stages. This allows for a diverse approach to combat. Leveling grants a skill point, which can be used to unlock and modify the effect of a skill. As 5 points are allocated into a skill the Second Stage is unlocked, adding a passive benefit to the skill, after 10 points the skill's Third Stage is unlocked. One player may use Fireball to light enemies on fire, dealing damage over time; while another may use Fireball to regenerate mana on impact. Of course a third individual may choose to go all out with a Fireball that pierces enemies, regenerating mana, lighting enemies on fire and creating more Fireballs (called Fractures) on impact.<br><br>In addition to the customization found within each skill several skills within the same way will interact with one another if the player so chooses. An example of this being the Fire Skill Tree's Embers skill which by defaults increases the Fire Damage afflicted enemies take for a duration while the &quot;Firestorm&quot; modifier allows each hit to have a chance to cast a Fireball Fracture (free of cost) at each target hit.<br><br>\\t\\t\\t\\t\\t\\t<strong><u>ITEMS</u></strong><br>Moderium incorporates a Rarity-based loot system with a twist. The vast majority of items will grant &quot;Damage&quot; which is used to improve the offensive capability of your character, and depending upon the rarity can offer additional benefits such as:<br><br>Epics - Grant Damage, 1 Primary Stat (Strength, Intelligence or Agility) and 3 Secondary Stats (Critical Hit Chance, Haste, Overflow).<br>Relics (Commonly known as &quot;Legendaries&quot;) - Grant Damage, 1 Primary Stat, 2 Secondary Stats and free points to at least 2 Modifiers (Can add up to 5 points to all 5 Modifiers) for a specified skill.<br><br>Pair this with new Secondary Stats to add more variety to builds and a crafting system that allows you to designate exactly what Primary and Secondary Stats your item will have, as well as the level of the item and the depth of character customization becomes realized. But wait - There's more!<br><br>Moderium has redesigned the approach to equipment sets that augment your character, focusing on adding an extra element of gameplay and customization as opposed to stacking 3-6 pieces for a simple numerical buff which doesn't feel impacting to gameplay. Sets in Moderium are broken apart into individual bonuses, requiring a specific number of each set piece to unlock and which pieces are active is completely up to the player, with a default of 3 sets being active at a time.<br><br>A Pyromancer may choose to activate the Flaring Repitition (Conflagrate's Damage Over Time now stacks), Flamecaller's Gift (Fireball redirects back at the player when completing it's path) and Igntion (Passively applies &quot;Ignite&quot; at full strength every few seconds to a nearby enemy.) The power of your character is further boosted by sets that the player chooses to mix together - And these sets are not an alternative to the default equipment so they will not interfere with Epics or Relics that are equipped.<br><br>\\t\\t\\t\\t\\t\\t<strong><u>SCALING</u></strong><br>Moderium aims to be accessible by all and to remain as free of frustration as possible. To this end it is impossible to be 1-shot, insta-gibbed, deleted or otherwise obliterated by a single enemy hit. As the player's level rises from level 1 all the way to 100 the damage of ALL enemies will scale and reach a cap. At Player Level 100 a level 5 enemy and a level 50,000 enemy will hit just as hard - The difference is their health. As the level of enemies raises their health begins to scale more dramatically, requiring more precise skill point allocation; luckily the player can scale too - Enter Enhancement. Upon reaching level 100 the player may &quot;Enhance&quot; which destroys all equipped and inventory items, returning the player to level 1 and resetting all Skill Points (Sets are carried over) while granting 10 extra skill points immediately - This process is repeatable.<br><br>The challenge in Moderium moves away from the ARPG standard of avoiding having your health depleted instantly while focusing on more active and entertaining aspects - How to boost your damage to defeat higher level enemies before becoming overwhelmed.\", \"[{'id': '1', 'description': 'Action'}, {'id': '4', 'description': 'Casual'}, {'id': '23', 'description': 'Indie'}, {'id': '3', 'description': 'RPG'}]\", \"{'coming_soon': False, 'date': '7 Jan, 2020'}\", 0, '1', '0')\n",
      "('1198600', 'Pizza Time Explosion', 0, '<img src=\"https://cdn.akamai.steamstatic.com/steam/apps/1198600/extras/aboutthegamesteam.png?t=1600620214\" /><br>Pizza Time Explosion is a fast-paced, arcade-style game in which you collect billions of pizza slices in order to create a pizza star with critical pizza mass, causing the pizza time explosion and ending worldwide pizza shortage.<br><br>You, as a pizza slice, must traverse the Pizza Dimension in search of pizza toppings, each of which allows you to generate more pizza to add to the star. You\\'ll have to avoid a myriad of obstacles on your way, however, such as all of the garbage that\\'s been dumped there, and the flies it has attracted (nobody wants flies on their pizza)!<br><br><img src=\"https://cdn.akamai.steamstatic.com/steam/apps/1198600/extras/featuressteam.png?t=1600620214\" /><br><ul class=\"bb_ul\"><li>Six unlockable circuits to play<br></li><li>30 total different difficulty/challenge modes to choose from and master! (27 combinations in normal mode, and three unlockable endless modes)<br></li><li>3 Special extra game modes with totally different gameplay! (Zombie Mode, Photo Mode, and Trash Chomper Mode)<br></li><li>39 extra backgrounds, 31 trading cards, and 16 fun visual modifiers to find and unlock!<br></li><li>Controller support*<br></li><li>32 Steam Achievements to unlock<br></li><li>Go for high scores on the online Steam leaderboards!</li></ul><br>*a controller is recommended for the best experience playing this game', \"[{'id': '1', 'description': 'Action'}, {'id': '23', 'description': 'Indie'}]\", \"{'coming_soon': False, 'date': '17 Dec, 2019'}\", 7, '17', '1')\n",
      "('1198630', 'Customer Cums First!', 0, '<img src=\"https://cdn.akamai.steamstatic.com/steam/apps/1198630/extras/ccf_story.png?t=1603082062\" /><br><br>It\\'s just like any other shopping district in Japan except the windows are lined with sexy shopkeepers, trophy wives, ditzy married women,  innocent newlyweds, and voluptuous vixens! These ladies make sure to keep their shops, and legs, open to their favorite customer!  What would you do then if you got an &quot;All-you-can-f***&quot; coupon in the mail one day? <br><br>Mere moments after our protagonist receives his &quot;Breeding License&quot;, recognition of his ability to sire children. He finds a strange coupon in his mailbox offering him &quot;special deals&quot; at the nearby shopping district. Get a full-body examination by one of the lovely nurses at the clinic, a sensual massage at the bathhouse, and even order off the secret menu at the local cafes where one of the waitresses might give you some special service~<br><br>With word out of your certification, women around your district know of your prowess. Will you be able to satisfy all their desires?<br><br><img src=\"https://cdn.akamai.steamstatic.com/steam/apps/1198630/extras/ccf_feature.png?t=1603082062\" /><br><ul class=\"bb_ul\"><li>19 intimate scenes demonstrating excellent customer service from the ladies in \\'Customer Cum First\\'.<br></li><li>Translated version of the original Japanese Visual Novel<br></li><li>Original artwork HD upscaled with 16:9 and 4:3 variants<br></li><li>Hours of story content<br></li><li>Main female characters fully voiced with original Japanese dialogue<br></li><li>Enhanced with character sprite animations<br></li><li>Gallery and Scene selections</li></ul><br>Customer Cums First is the English localization of a Visual Novel originally created by prolific Japanese developer Norn/Miel. We at Cherry Kiss aim to provide an authentic Japanese Visual Novel experience to gamers outside of Japan.<br><br>** PLEASE NOTE **<br>All characters described and visually represented in this game are over 18 years of age, and no actual, nor identifiable minor was used in the production of this game.', \"[{'id': '4', 'description': 'Casual'}]\", \"{'coming_soon': False, 'date': '17 Jan, 2020'}\", 7, '8', '2')\n",
      "('1198700', 'Chained: A Victorian Nightmare', 0, '<h1>More VR titles from MWM Interactive</h1><p><a href=\"https://store.steampowered.com/app/1337530/Maskmaker/\" target=\"_blank\" rel=\"noreferrer\"  id=\"dynamiclink_0\" >https://store.steampowered.com/app/1337530/Maskmaker/</a><br><a href=\"https://store.steampowered.com/app/1198050/War_Remains_Dan_Carlin_Presents_an_Immersive_Memory/\" target=\"_blank\" rel=\"noreferrer\"  id=\"dynamiclink_1\" >https://store.steampowered.com/app/1198050/War_Remains_Dan_Carlin_Presents_an_Immersive_Memory/</a></p><br><h1>About the Game</h1>Chained: A Victorian Nightmare is a haunting VR adaptation of Charles Dickens\\' classic tale, A Christmas Carol that puts you at the center of the story.  It\\'s time to disbelieve your senses. Sit back and prepare to confront your past, present and future, in this bone-chilling journey of self-discovery. Heed the spirts warnings as your future is yet unwritten. <br><br>- Seated Passive Experience<br>- Immersive VR Theater', \"[{'id': '25', 'description': 'Adventure'}, {'id': '4', 'description': 'Casual'}, {'id': '23', 'description': 'Indie'}]\", \"{'coming_soon': False, 'date': '19 Dec, 2019'}\", 6, '12', '4')\n",
      "('1198730', 'Hentai Police', 0, '<h1>⭐CHECK OUT FURRY GAMES⭐</h1><p><a href=\"https://store.steampowered.com/app/1566060/Miss_Furry/\" target=\"_blank\" rel=\"noreferrer\"  id=\"dynamiclink_0\" >https://store.steampowered.com/app/1566060/Miss_Furry/</a><br><br><a href=\"https://store.steampowered.com/app/1577160/HENTAI_PRINCESS/\" target=\"_blank\" rel=\"noreferrer\"  id=\"dynamiclink_1\" >https://store.steampowered.com/app/1577160/HENTAI_PRINCESS/</a></p><br><h1>About the Game</h1><strong>Try on</strong> the role of <strong>the fearless riot police</strong> in a <strong>unique</strong> historically reliable <strong>bestseller</strong>! <img src=\"https://cdn.akamai.steamstatic.com/steam/apps/1198730/extras/avtozak.png?t=1619400046\" /><br><br><strong>Cleanse streets</strong> from insults to the authorities, deport <strong>illegal immigrants</strong>, beat <strong>peaceful protesters</strong> and rise to <strong>the rank of Hero of the Motherland</strong>! <img src=\"https://cdn.akamai.steamstatic.com/steam/apps/1198730/extras/g.png?t=1619400046\" /><br><br><img src=\"https://cdn.akamai.steamstatic.com/steam/apps/1198730/extras/Log.png?t=1619400046\" /><br><br>This project is a <strong>burning </strong>mix of <strong>Visual Novel</strong> and <strong>Puzzle</strong> <img src=\"https://cdn.akamai.steamstatic.com/steam/apps/1198730/extras/boc.png?t=1619400046\" /><h2 class=\"bb_tag\">Unique Features</h2><img src=\"https://cdn.akamai.steamstatic.com/steam/apps/1198730/extras/HeadingDivider_(1).png?t=1619400046\" /><br><ul class=\"bb_ul\"><li><strong>Punish enemies</strong> of the Motherland! <img src=\"https://cdn.akamai.steamstatic.com/steam/apps/1198730/extras/bandit.png?t=1619400046\" /><br></li><li>Put <strong>dirty protesters</strong> on <strong>a bottle of champagne</strong>! <img src=\"https://cdn.akamai.steamstatic.com/steam/apps/1198730/extras/shina.png?t=1619400046\" /><br></li><li><strong>Spy</strong> on your colleagues! <img src=\"https://cdn.akamai.steamstatic.com/steam/apps/1198730/extras/petush.png?t=1619400046\" /><br></li><li><strong>Pump your brains</strong> by solving puzzles! <img src=\"https://cdn.akamai.steamstatic.com/steam/apps/1198730/extras/ric.png?t=1619400046\" /></li></ul><img src=\"https://cdn.akamai.steamstatic.com/steam/apps/1198730/extras/sasatbEN.png?t=1619400046\" /><br><i><strong>The best workers </strong>of &quot;<strong>Skolkovo</strong>&quot; laboratory and <strong>brave fighters against tyranny</strong> took part in <strong>creating this game</strong>!</i> <img src=\"https://cdn.akamai.steamstatic.com/steam/apps/1198730/extras/rkn.png?t=1619400046\" />', \"[{'id': '1', 'description': 'Action'}, {'id': '25', 'description': 'Adventure'}, {'id': '4', 'description': 'Casual'}, {'id': '23', 'description': 'Indie'}, {'id': '3', 'description': 'RPG'}, {'id': '28', 'description': 'Simulation'}]\", \"{'coming_soon': False, 'date': '17 Jan, 2020'}\", 8, '105', '22')\n",
      "('1198740', 'Colony Siege', 0, 'Colony Siege combines the best of RTS and tower defense, including base building, mazing, and unit physics. Use shockwaves and spring traps to propel enemies into cliffs, lava, and other hazards. Build mechs, tanks, and other mobile units. Decimate massed enemies with air, missile, and orbital strikes. Expansive, non-linear campaign supports single player and 2 player online co-op.<h2 class=\"bb_tag\">Defend Your Colony</h2><img src=\"https://cdn.akamai.steamstatic.com/steam/apps/1198740/extras/divider.png?t=1599760358\" /><br><img src=\"https://cdn.akamai.steamstatic.com/steam/apps/1198740/extras/Defend_Final.gif?t=1599760358\" /><br><br>Whether fighting the Xenos or the Riven, no colony building is safe from attack. While protecting the colony Citadel is your primary objective, the enemy will not discriminate when it comes to attacking your colony. <br><br>Defend against the relentless biomechanical xeno swarm as well as the corrupted Riven that were once human. Both enemy factions behave differently and require different tactics.<h2 class=\"bb_tag\">Use Towers, Traps, Strikes, Mobile Units, and Special Abilities</h2><img src=\"https://cdn.akamai.steamstatic.com/steam/apps/1198740/extras/divider.png?t=1599760358\" /><br><img src=\"https://cdn.akamai.steamstatic.com/steam/apps/1198740/extras/Tower_Traps_Units_Final.gif?t=1599760358\" /><br><br>Defend with powerful towers that automatically form walls when placed near each other. Use unique traps to slow, impale, burn, or bombard the enemy. <br><br>Build and command mobile ground units. Strike the enemy with satellite-powered attacks, long-range missiles, commander abilities, and fighter sorties.<h2 class=\"bb_tag\">Design Mazes Before and During Battle</h2><img src=\"https://cdn.akamai.steamstatic.com/steam/apps/1198740/extras/divider.png?t=1599760358\" /><br><img src=\"https://cdn.akamai.steamstatic.com/steam/apps/1198740/extras/Design_Mazes_Final.gif?t=1599760358\" /><br><br>Defensive towers and barriers automatically generate a laser fence when constructed close together, allowing your mobile units passage while restricting enemy movement.<h2 class=\"bb_tag\">Embark on an Epic Campaign</h2><img src=\"https://cdn.akamai.steamstatic.com/steam/apps/1198740/extras/divider.png?t=1599760358\" /><br><img src=\"https://cdn.akamai.steamstatic.com/steam/apps/1198740/extras/Campaigns_Final.gif?t=1599760358\" /><br><br>Experience dozens of intense missions from a starmap with branching paths. Press your advantage or repeat previous missions for extra cash.<h2 class=\"bb_tag\">Fight Alone or with a Friend</h2><img src=\"https://cdn.akamai.steamstatic.com/steam/apps/1198740/extras/divider.png?t=1599760358\" /><br><img src=\"https://cdn.akamai.steamstatic.com/steam/apps/1198740/extras/Multiplayer_Final.gif?t=1599760358\" /><br><br>The entire campaign is cooperative from the very first mission to the last. Consolidate forces with a friend or combine different tactics.<h2 class=\"bb_tag\">Persistant Progression System</h2><img src=\"https://cdn.akamai.steamstatic.com/steam/apps/1198740/extras/divider.png?t=1599760358\" /><br><img src=\"https://cdn.akamai.steamstatic.com/steam/apps/1198740/extras/progression_final.gif?t=1599760358\" /><br><br>Earn money from completing mission primary and bonus objectives, and spend it on persistent upgrades, new weapons, and different towers, traps, units, and strikes. Unlock powerful perks to buffer your weaknesses or bolster your advantages.<h2 class=\"bb_tag\">Battle in a Wide Variety of Environments</h2><img src=\"https://cdn.akamai.steamstatic.com/steam/apps/1198740/extras/divider.png?t=1599760358\" /><br><img src=\"https://cdn.akamai.steamstatic.com/steam/apps/1198740/extras/Environments_Final.gif?t=1599760358\" /><br><br>Expect a constant change of scenery as you travel to different planets, moons, space stations, and enormous mobile space platforms.', \"[{'id': '28', 'description': 'Simulation'}, {'id': '2', 'description': 'Strategy'}]\", \"{'coming_soon': False, 'date': '7 Sep, 2020'}\", 8, '72', '6')\n",
      "('1198810', 'Wolf and Pigs', 0, 'Once upon a time, the notorious Pig Brothers gang invaded the New World, blasting and disfiguring nature to build their secret base. <br><br>Portrayed as evil by the media – who have been bought and paid by the Pig Brothers – the Wolf is the last defense between Nature and the brothers’ greed. <br><br>With no one to stop them, the Pig Brothers are laying waste to everything in their path, raking in the cash. Everyone thinks that Wolf is dead, but there’s a sliver of hope. It turns out that Wolf has upgraded his body with high-end prosthetic arms loaded with all sorts of weaponry, including shotguns and bombs!<br><br>Nature has its defender at last. Will the Pig Brothers pay the ultimate price?<br><br><strong><strong>Key Features</strong>:</strong><br><ul class=\"bb_ul\"><li> Experience an age-old fairy tale from a totally different perspective!<br></li><li> Move freely across the world through an innovative grappling mechanic.<br></li><li> Shoot carefully and be mindful of your bullet count!<br></li><li> Upgrade your character to fight the final boss.<br></li><li> Explore the world along with thousands of interactive objects. <br></li><li> Enjoy environments fully optimized for VR.<br></li><li> Solve challenging puzzles and infiltrators!</li></ul>', \"[{'id': '1', 'description': 'Action'}, {'id': '25', 'description': 'Adventure'}, {'id': '4', 'description': 'Casual'}, {'id': '23', 'description': 'Indie'}, {'id': '2', 'description': 'Strategy'}]\", \"{'coming_soon': False, 'date': '13 May, 2020'}\", 0, '5', '1')\n",
      "('1198820', 'Monster Girl Garden', 0, \"Welcome to Monster Girl Garden, the interactive life simulation/ monster battling hentai game! The game is currently in Beta.<br />\\n<br />\\nYou are granted a dejected piece of land in the forest to attract the the world's monster girls. Clear your land, upgrade your tools, craft new decorations, and more! Attract visitors, &quot;convince&quot; them to stay, battle and breed them with others to create the strongest, or sexiest possible girl.<br />\\n<br />\\nOnce you've attracted a new monster and convinced them to stay it's time to train them up. Monster girls do what they want and it's hard to control them, they will wander the garden and do what they feel like. Currently the game allows you to assign Commands right from the start, but in future updates this will require raising their 'Loyalty' stat. Loyalty shows how much your monster likes you, and is a reflection of how well you are treating them.<br />\\n<br />\\nPlenty of animations and scenes will be added as the game expands over time. Girls have a lust stat which raises over time and must be satisfied. If they can't find a willing partner they may engage a not so willing monster, or deal with it themselves. Or you can always switch to Player Mode and help them out yourself! Player Mode allows you to explore your Garden in 3rd person and interact with your Monsters ;)<br />\\nSome monsters have alternate skins which can be unlocked, and more will be added in future updates.\", \"[{'id': '28', 'description': 'Simulation'}]\", \"{'coming_soon': False, 'date': '17 Jan, 2020'}\", 5, '9', '5')\n"
     ]
    }
   ],
   "source": [
    "filename = 'steam.csv'\n",
    "stats = csv.reader(open(filename))\n",
    "\n",
    "c.executemany(\"INSERT INTO Steam_game1(steam_appid, name, required_age, detailed_description, genres,release_date, review_score, total_positive, total_negative) VALUES (?,?,?,?,?,?,?,?,?)\",\n",
    "              ((df[3],df[2],df[4],df[6],df[23],df[26],df[31],df[33],df[34]) for df in stats))\n",
    "\n",
    "for row in c.execute(\"SELECT * FROM Steam_game1\"):\n",
    "    print(row)"
   ]
  },
  {
   "cell_type": "code",
   "execution_count": null,
   "id": "d4cfd05c",
   "metadata": {},
   "outputs": [],
   "source": []
  },
  {
   "cell_type": "code",
   "execution_count": null,
   "id": "57b6cb67",
   "metadata": {},
   "outputs": [],
   "source": []
  },
  {
   "cell_type": "code",
   "execution_count": null,
   "id": "b027a684",
   "metadata": {},
   "outputs": [],
   "source": []
  }
 ],
 "metadata": {
  "kernelspec": {
   "display_name": "Python 3 (ipykernel)",
   "language": "python",
   "name": "python3"
  },
  "language_info": {
   "codemirror_mode": {
    "name": "ipython",
    "version": 3
   },
   "file_extension": ".py",
   "mimetype": "text/x-python",
   "name": "python",
   "nbconvert_exporter": "python",
   "pygments_lexer": "ipython3",
   "version": "3.8.10"
  }
 },
 "nbformat": 4,
 "nbformat_minor": 5
}
